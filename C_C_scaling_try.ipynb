{
 "cells": [
  {
   "cell_type": "markdown",
   "metadata": {},
   "source": [
    "####  C-C scaling! <br>\n",
    "Ref: https://journals.ametsoc.org/doi/full/10.1175/JCLI3990.1   <br>\n",
    "\n",
    "$\\frac{ln (e_{s})}{T}=\\frac{L}{R T^{2}}= \\alpha(T)$   <br>\n",
    "\n",
    "where $L$ is the latent heat of vaporization and $R$ is the gas constant. At temperatures typical of the lower tro- posphere, $\\alpha \\approx 0.07 K^{-1}$ the saturation vapor pressure increases by about $7 \\%$  for each 1 $K$ increase in temperature. <br>\n",
    "\n",
    "$e = RH \\times e_{s}$, and in climate models relative humidity(RH) is almost constant, so water vapor also scales with $7 \\%$  for each 1 $K$ increase in temperature.  <br>\n",
    "\n",
    "$\\frac{ \\frac{\\partial e_{s}}{e_{s}}}{\\partial T}=\\frac{L}{R T^{2}}$ \n",
    "\n",
    "For $L=2\\times 10^{6} 2,260$ $J$ $kg^{-1}$, $R=287$ $J$ $kg^{-1}$ $K^{-1}$ and $T=290 K$ <br>, RHS of above eqn is equal to 0.08 i.e. $8\\%$ rise per degree rise in temperature. <br>\n",
    "\n",
    " So, here we take **percentage increase** in total column water vapor (TCWV)  <br> wrt T"
   ]
  },
  {
   "cell_type": "markdown",
   "metadata": {},
   "source": []
  },
  {
   "cell_type": "code",
   "execution_count": null,
   "metadata": {},
   "outputs": [],
   "source": [
    "%matplotlib inline\n",
    "import numpy as np\n",
    "import xarray as xr\n",
    "import matplotlib.pyplot as plt\n",
    "import cartopy.crs as ccrs\n",
    "import os\n",
    "import glob\n",
    "import csv\n",
    "import pandas"
   ]
  },
  {
   "cell_type": "code",
   "execution_count": null,
   "metadata": {},
   "outputs": [],
   "source": [
    "root_path = '/home/disk/eos9/cmip6'\n",
    "experiment = 'historical'\n",
    "experiment2 = 'ssp585'\n",
    "model_list = ['CanESM5']\n",
    "              \n",
    "variable = 'tas'\n",
    "MIP_table = 'Amon'\n",
    "\n",
    "# specific grid label for each model \n",
    "grid_label = {'CanESM5': 'gn'}\n",
    "\n",
    "variant =   {'CanESM5': 'r1i1p1f1' }\n",
    "\n",
    "# check grid labels are defined for all models\n",
    "assert all(x in grid_label for x in model_list) ##assert statement to debug the code!\n"
   ]
  },
  {
   "cell_type": "code",
   "execution_count": null,
   "metadata": {},
   "outputs": [],
   "source": [
    "\n"
   ]
  }
 ],
 "metadata": {
  "kernelspec": {
   "display_name": "Python 3",
   "language": "python",
   "name": "python3"
  },
  "language_info": {
   "codemirror_mode": {
    "name": "ipython",
    "version": 3
   },
   "file_extension": ".py",
   "mimetype": "text/x-python",
   "name": "python",
   "nbconvert_exporter": "python",
   "pygments_lexer": "ipython3",
   "version": "3.7.3"
  }
 },
 "nbformat": 4,
 "nbformat_minor": 2
}
